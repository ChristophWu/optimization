{
 "cells": [
  {
   "cell_type": "code",
   "execution_count": 11,
   "metadata": {},
   "outputs": [],
   "source": [
    "\n",
    "import numpy as np\n",
    "import matplotlib.pyplot as plt\n",
    "from mpl_toolkits.mplot3d import Axes3D\n",
    "import itertools\n"
   ]
  },
  {
   "cell_type": "code",
   "execution_count": 12,
   "metadata": {},
   "outputs": [],
   "source": [
    "def Q(x):\n",
    "    a11=1200*x[0]**2-400*x[1]+2\n",
    "    a12=-400*x[0]\n",
    "    a21=-400*x[0]\n",
    "    a22=200\n",
    "    A=np.zeros([2,2])\n",
    "    A[0][0]=a11\n",
    "    A[0][1]=a12\n",
    "    A[1][0]=a21\n",
    "    A[1][1]=a22\n",
    "    return A"
   ]
  },
  {
   "cell_type": "code",
   "execution_count": 22,
   "metadata": {
    "scrolled": true
   },
   "outputs": [
    {
     "name": "stdout",
     "output_type": "stream",
     "text": [
      "[[-3998.]\n",
      " [ -800.]]\n",
      "[[-2]\n",
      " [ 3]]\n",
      "[[3602.  800.]\n",
      " [ 800.  200.]]\n"
     ]
    }
   ],
   "source": [
    "x=np.array([[-2],[3]])\n",
    "print(g(x))\n",
    "A=Q(x)\n",
    "print(x)\n",
    "print(A)"
   ]
  },
  {
   "cell_type": "code",
   "execution_count": 13,
   "metadata": {},
   "outputs": [],
   "source": [
    "def B(x):\n",
    "    b=np.zeros([2,1])\n",
    "    b[0][0]=400*x[0]**3-400*x[0]*x[1]+2*x[0]-2\n",
    "    b[1][0]=200*(x[1]-x[0]**2)\n",
    "    return b"
   ]
  },
  {
   "cell_type": "code",
   "execution_count": 14,
   "metadata": {},
   "outputs": [],
   "source": [
    "def f(x,c):\n",
    "    A=Q(x)\n",
    "    b=B(x)\n",
    "    return 0.5 * x.T @ A @ x - x.T@b + c"
   ]
  },
  {
   "cell_type": "code",
   "execution_count": 15,
   "metadata": {},
   "outputs": [
    {
     "data": {
      "text/plain": [
       "array([[2793.]])"
      ]
     },
     "execution_count": 15,
     "metadata": {},
     "output_type": "execute_result"
    }
   ],
   "source": [
    "c=1\n",
    "f(x, c)"
   ]
  },
  {
   "cell_type": "code",
   "execution_count": 16,
   "metadata": {},
   "outputs": [],
   "source": [
    "def g(x):\n",
    "    A=Q(x)\n",
    "    b=B(x)\n",
    "    return A @ x - b "
   ]
  },
  {
   "cell_type": "code",
   "execution_count": 17,
   "metadata": {},
   "outputs": [],
   "source": [
    "def Beta(x_cur,x_new,d_cur):\n",
    "    return g(x_new).T@Q(x_cur)@d_cur/d_cur.T@Q(x_cur)@d_cur\n"
   ]
  },
  {
   "cell_type": "code",
   "execution_count": 18,
   "metadata": {},
   "outputs": [],
   "source": [
    "def Alpha(x,d_cur):\n",
    "    return -1*g(x).T@d_cur/d_cur.T@Q(x)@d_cur"
   ]
  },
  {
   "cell_type": "code",
   "execution_count": 19,
   "metadata": {},
   "outputs": [],
   "source": [
    "# def d(x_new,x_cur):\n",
    "#     return -1*g(x_new)+Beta(x_cur,x_new)*d(x_cur)"
   ]
  },
  {
   "cell_type": "code",
   "execution_count": 20,
   "metadata": {},
   "outputs": [
    {
     "name": "stdout",
     "output_type": "stream",
     "text": [
      "[[ 402.]\n",
      " [-200.]]\n",
      "iter 1\n",
      "alpha [[0.0009984]]\n",
      "x [[0.59864186]\n",
      " [1.19968067]]\n",
      "g [[-113.64240626]\n",
      " [ -71.67441475]]\n",
      "iter 2\n",
      "alpha [[-0.00517084]]\n",
      "x [[0.01101471]\n",
      " [0.82906346]]\n",
      "g [[-1.65168983]\n",
      " [-0.02426479]]\n",
      "iter 3\n",
      "alpha [[-0.00303495]]\n",
      "x [[0.00600192]\n",
      " [0.82898982]]\n",
      "g [[ 0.00996   ]\n",
      " [-0.00720461]]\n",
      "iter 4\n",
      "alpha [[-0.00687908]]\n",
      "x [[0.00607044]\n",
      " [0.82894025]]\n",
      "g [[-0.01263317]\n",
      " [-0.00737004]]\n",
      "iter 5\n",
      "alpha [[-0.00507135]]\n",
      "x [[0.00600637]\n",
      " [0.82890288]]\n",
      "g [[ 0.0086942]\n",
      " [-0.0072153]]\n",
      "iter 6\n",
      "alpha [[-0.00899294]]\n",
      "x [[0.00608456]\n",
      " [0.82883799]]\n",
      "g [[-0.01706461]\n",
      " [-0.00740437]]\n",
      "iter 7\n",
      "alpha [[-0.00404244]]\n",
      "x [[0.00601557]\n",
      " [0.82880806]]\n",
      "g [[ 0.00587155]\n",
      " [-0.00723743]]\n",
      "iter 8\n",
      "alpha [[0.00294149]]\n",
      "x [[0.00602383]\n",
      " [0.82884043]]\n",
      "g [[ 0.00305622]\n",
      " [-0.00725731]]\n"
     ]
    }
   ],
   "source": [
    "x_cur=np.array([[1],[1]])\n",
    "g_cur=g(x_cur)\n",
    "ginit=g_cur\n",
    "print(g_cur)\n",
    "d_cur=-1 * g_cur\n",
    "\n",
    "for k in range(8):\n",
    "    print('iter',k+1)\n",
    "    alpha=-1*g(x_cur).T@d_cur/(d_cur.T@Q(x_cur)@d_cur)\n",
    "    print('alpha',alpha)\n",
    "    x_new=x_cur+alpha*d_cur\n",
    "    g_new=g(x_new)\n",
    "    beta=g_new.T@Q(x_cur)@d_cur / (d_cur.T @Q(x_cur)@d_cur)\n",
    "    d_new=-g_new+beta*d_cur\n",
    "    print('x',x_new)\n",
    "    print('g',g_new)\n",
    "#     print(d_new)\n",
    "    x_cur=x_new\n",
    "    if k+1<7:\n",
    "        d_cur=-g(x_cur)\n",
    "    else:\n",
    "        d_cur=d_new\n",
    "\n",
    "    "
   ]
  },
  {
   "cell_type": "code",
   "execution_count": null,
   "metadata": {
    "collapsed": true
   },
   "outputs": [],
   "source": []
  }
 ],
 "metadata": {
  "kernelspec": {
   "display_name": "Python 3",
   "language": "python",
   "name": "python3"
  },
  "language_info": {
   "codemirror_mode": {
    "name": "ipython",
    "version": 3
   },
   "file_extension": ".py",
   "mimetype": "text/x-python",
   "name": "python",
   "nbconvert_exporter": "python",
   "pygments_lexer": "ipython3",
   "version": "3.6.5"
  }
 },
 "nbformat": 4,
 "nbformat_minor": 2
}
