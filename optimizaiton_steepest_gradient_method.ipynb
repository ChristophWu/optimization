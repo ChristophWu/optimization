{
 "cells": [
  {
   "cell_type": "code",
   "execution_count": 16,
   "metadata": {},
   "outputs": [],
   "source": [
    "import numpy as np"
   ]
  },
  {
   "cell_type": "code",
   "execution_count": 17,
   "metadata": {},
   "outputs": [],
   "source": [
    "#8.26 function of f(x) = 100(x21−x2)*2+(x2−1)*2\n",
    "def func(x):\n",
    "    return 100*np.square(np.square(x[0])-x[1])+np.square(x[0]-1)"
   ]
  },
  {
   "cell_type": "code",
   "execution_count": 18,
   "metadata": {},
   "outputs": [
    {
     "data": {
      "text/plain": [
       "0"
      ]
     },
     "execution_count": 18,
     "metadata": {},
     "output_type": "execute_result"
    }
   ],
   "source": [
    "func([1,1])"
   ]
  },
  {
   "cell_type": "code",
   "execution_count": 19,
   "metadata": {},
   "outputs": [],
   "source": [
    "#8.26 gradient of f(x) = 100(x21−x2)*2+(x2−1)*2\n",
    "def dfunc(x):\n",
    "    df1 = 400*x[0]*(np.square(x[0])-x[1])+2*(x[0]-1)\n",
    "    df2 = -200*(np.square(x[0])-x[1])\n",
    "    return np.array([df1, df2])"
   ]
  },
  {
   "cell_type": "code",
   "execution_count": 20,
   "metadata": {},
   "outputs": [],
   "source": [
    "step = 0.001\n",
    "x = [-2,2]\n",
    "for i in range(10000):\n",
    "    temp = x-step*dfunc(x)\n",
    "    if np.linalg.norm(dfunc(x))>=0.0001:\n",
    "       x = temp\n",
    "    else:\n",
    "       break\n"
   ]
  },
  {
   "cell_type": "code",
   "execution_count": 22,
   "metadata": {},
   "outputs": [
    {
     "name": "stdout",
     "output_type": "stream",
     "text": [
      "[0.99117313 0.98238866] 9999\n",
      "7.80397926096646e-05\n"
     ]
    }
   ],
   "source": [
    "print(x,i)\n",
    "print(func(x))"
   ]
  },
  {
   "cell_type": "code",
   "execution_count": 7,
   "metadata": {},
   "outputs": [],
   "source": [
    "# 8.26 gradient \n",
    "def dfunc2(x):\n",
    "    df1 = 4 * (x[0] - 4) ** 3\n",
    "    df2 = 2 * (x[1] - 3)\n",
    "    df3 = 16 * (x[2] + 5) ** 3\n",
    "    return np.array([df1,df2,df3])"
   ]
  },
  {
   "cell_type": "code",
   "execution_count": 13,
   "metadata": {},
   "outputs": [],
   "source": [
    "step = 0.002\n",
    "x = [-4,5,1]\n",
    "#x1 = x0 - step * dfunc2(x0)\n",
    "#d0 = dfunc2(x0)\n",
    "#d1 = dfunc2(x1)\n",
    "for i in range(10000):\n",
    "    #step = secant(dfunc2,x0,x1)\n",
    "    #x0 = x1\n",
    "    #x1 = step\n",
    "    temp = x-step*dfunc2(x)\n",
    "    if np.linalg.norm(dfunc2(x))>=0.000001:\n",
    "       x = temp \n",
    "    else:\n",
    "       break"
   ]
  },
  {
   "cell_type": "code",
   "execution_count": 14,
   "metadata": {},
   "outputs": [
    {
     "name": "stdout",
     "output_type": "stream",
     "text": [
      "[ 3.92097877  3.         -5.03948405] 9999\n"
     ]
    }
   ],
   "source": [
    "print(x,i)"
   ]
  },
  {
   "cell_type": "code",
   "execution_count": null,
   "metadata": {},
   "outputs": [],
   "source": [
    "def secant(f,x0,x1, TOL=0.001, NMAX=100):\n",
    "\t\"\"\"\n",
    "\tTakes a function f, start values [x0,x1], tolerance value(optional) TOL and\n",
    "\tmax number of iterations(optional) NMAX and returns the root of the equation\n",
    "\tusing the secant method.\n",
    "\t\"\"\"\n",
    "\tn=1\n",
    "\twhile n<=NMAX:\n",
    "\t\tx2 = x1 - f(x1)*((x1-x0)/(f(x1)-f(x0)))\n",
    "\t\tif np.linalg.norm(x2-x1) < TOL:\n",
    "\t\t\treturn x2\n",
    "\t\telse:\n",
    "\t\t\tx0 = x1\n",
    "\t\t\tx1 = x2\n",
    "\treturn x2"
   ]
  },
  {
   "cell_type": "code",
   "execution_count": null,
   "metadata": {},
   "outputs": [],
   "source": []
  }
 ],
 "metadata": {
  "kernelspec": {
   "display_name": "Python 3",
   "language": "python",
   "name": "python3"
  },
  "language_info": {
   "codemirror_mode": {
    "name": "ipython",
    "version": 3
   },
   "file_extension": ".py",
   "mimetype": "text/x-python",
   "name": "python",
   "nbconvert_exporter": "python",
   "pygments_lexer": "ipython3",
   "version": "3.6.5"
  }
 },
 "nbformat": 4,
 "nbformat_minor": 2
}
