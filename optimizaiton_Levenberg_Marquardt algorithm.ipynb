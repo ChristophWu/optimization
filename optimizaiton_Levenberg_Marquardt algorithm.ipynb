{
 "cells": [
  {
   "cell_type": "code",
   "execution_count": 9,
   "metadata": {},
   "outputs": [],
   "source": [
    "import numpy as np\n",
    "from scipy.linalg import eigh\n",
    "from numpy.linalg import inv\n",
    "import matplotlib.pyplot as plt"
   ]
  },
  {
   "cell_type": "code",
   "execution_count": 2,
   "metadata": {},
   "outputs": [],
   "source": [
    "def fun(t,A,w,phi):\n",
    "    y = A * np.sin(w * t + phi)\n",
    "    return y"
   ]
  },
  {
   "cell_type": "code",
   "execution_count": 8,
   "metadata": {},
   "outputs": [
    {
     "name": "stdout",
     "output_type": "stream",
     "text": [
      "[0.  0.5 1.  1.5 2.  2.5 3.  3.5 4.  4.5 5.  5.5 6.  6.5 7.  7.5 8.  8.5\n",
      " 9.  9.5]\n",
      "[ 1.03513682  1.73037219  2.00856447  1.80266554  1.16229984  0.24180416\n",
      " -0.73696959 -1.5381237  -1.96856921 -1.92456291 -1.41671092 -0.56741244\n",
      "  0.41864011  1.30379473  1.87471719  1.99380745  1.63236316  0.87749727\n",
      " -0.08885733 -1.03379611]\n",
      "[ 1.13513682  1.83037219  2.10856447  1.90266554  1.06229984  0.14180416\n",
      " -0.83696959 -1.6381237  -2.11856921 -2.07456291 -1.56671092 -0.71741244\n",
      "  0.51864011  1.40379473  1.97471719  2.09380745  1.53236316  0.77749727\n",
      " -0.18885733 -1.03379611]\n"
     ]
    }
   ],
   "source": [
    "t = np.arange(0,10,0.5)\n",
    "y = fun(t,2.01,0.992,0.541)\n",
    "print(t)\n",
    "print(y)\n",
    "y[0:4] = y[0:4] + 0.1\n",
    "y[4:8] = y[4:8] -0.1\n",
    "y[8:12] = y[8:12] -0.15\n",
    "y[12:16] = y[12:16] + 0.1\n",
    "y[16:19] = y[16:19] - 0.1\n",
    "print(y)"
   ]
  },
  {
   "cell_type": "code",
   "execution_count": 4,
   "metadata": {},
   "outputs": [],
   "source": [
    "def j(t,A,w,phi):\n",
    "    J = np.zeros([20,3])\n",
    "    for i in range(20):\n",
    "        j1 = - np.sin(w * t[i] + phi)\n",
    "        j2 = - t[i] * A * np.cos(w * t[i] + phi)\n",
    "        j3 = - A * np.cos(w * t[i] + phi)\n",
    "        J[i][0] = j1\n",
    "        J[i][1] = j2\n",
    "        J[i][2] = j3\n",
    "    return J"
   ]
  },
  {
   "cell_type": "code",
   "execution_count": 5,
   "metadata": {},
   "outputs": [],
   "source": [
    "A = 1\n",
    "w = 1\n",
    "phi = 1\n",
    "N = 3\n",
    "mu = 0\n",
    "for i in range(100):\n",
    "    J = j(t,A,w,phi)\n",
    "    #print('J:',J)\n",
    "    H = np.dot(J.T,J)\n",
    "    #print('H:',H)\n",
    "    values,vectors = eigh(H,)\n",
    "    if values[0] < 0:\n",
    "        mu = - values[0] + 0.0001\n",
    "    else:\n",
    "        mu = 0\n",
    "    H_inv = inv(H + mu * np.eye(N))\n",
    "    #print('H_inv:',H_inv)\n",
    "    tmp_r = fun(t,A,w,phi)\n",
    "    r = y - tmp_r\n",
    "    #print('r:',r)\n",
    "    iteration_term = H_inv@(J.T)@(r.T)\n",
    "    if (np.linalg.norm(iteration_term) <= 0.001):\n",
    "        break\n",
    "    A = A - iteration_term[0]\n",
    "    w = w - iteration_term[1]\n",
    "    phi = phi - iteration_term[2]\n",
    "    #print('iteration_term:',iteration_term)"
   ]
  },
  {
   "cell_type": "code",
   "execution_count": 6,
   "metadata": {},
   "outputs": [
    {
     "name": "stdout",
     "output_type": "stream",
     "text": [
      "2.009971073311419 0.9920000011300744 0.5410056401278415 4\n"
     ]
    }
   ],
   "source": [
    "print(A,w,phi,i)"
   ]
  },
  {
   "cell_type": "code",
   "execution_count": 11,
   "metadata": {},
   "outputs": [
    {
     "data": {
      "image/png": "[encoded data removed]",
      "text/plain": [
       "<Figure size 432x288 with 1 Axes>"
      ]
     },
     "metadata": {},
     "output_type": "display_data"
    }
   ],
   "source": [
    "t1 = np.arange(0,10,0.01)\n",
    "y1 = fun(t1,A,w,phi)\n",
    "plt.plot(t1, y1)\n",
    "plt.scatter(t, y)\n",
    "plt.show()"
   ]
  },
  {
   "cell_type": "code",
   "execution_count": null,
   "metadata": {},
   "outputs": [],
   "source": []
  }
 ],
 "metadata": {
  "kernelspec": {
   "display_name": "Python 3",
   "language": "python",
   "name": "python3"
  },
  "language_info": {
   "codemirror_mode": {
    "name": "ipython",
    "version": 3
   },
   "file_extension": ".py",
   "mimetype": "text/x-python",
   "name": "python",
   "nbconvert_exporter": "python",
   "pygments_lexer": "ipython3",
   "version": "3.6.5"
  }
 },
 "nbformat": 4,
 "nbformat_minor": 2
}
